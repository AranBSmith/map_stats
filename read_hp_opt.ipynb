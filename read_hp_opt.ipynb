{
 "cells": [
  {
   "cell_type": "code",
   "execution_count": 7,
   "metadata": {
    "scrolled": true
   },
   "outputs": [
    {
     "data": {
      "image/png": "[encoded data removed]",
      "text/plain": [
       "<Figure size 432x288 with 1 Axes>"
      ]
     },
     "metadata": {
      "needs_background": "light"
     },
     "output_type": "display_data"
    }
   ],
   "source": [
    "import re\n",
    "import matplotlib.pyplot as plt\n",
    "\n",
    "# for token in user_input.split():\n",
    "#     try:\n",
    "#         # if this succeeds, you have your (first) float\n",
    "#         print float(token), \"is a float\"\n",
    "#     except ValueError:\n",
    "#         print token, \"is something else\"\n",
    "\n",
    "f = open('/home/aran/itev2/limbo/dcfoptimize.log')\n",
    "#f = open('/home/aran/itev2/limbo/boopt.log')\n",
    "line = f.readline()\n",
    "\n",
    "trials_per_exp = []\n",
    "parameters_per_exp = []\n",
    "flag = 0\n",
    "counter = 0\n",
    "trials = []\n",
    "while line:\n",
    "    line = f.readline()\n",
    "    if line.startswith(\"loaded archive\"):\n",
    "        flag = 0\n",
    "        \n",
    "    if line.startswith(\"this is the value\") and flag >= 1:\n",
    "        if flag >= 1:\n",
    "            results = re.findall(r\"[-+]?\\d*\\.\\d+|\\d+\", line)\n",
    "            trials_per_exp.append(int(results[1]))\n",
    "            \n",
    "        line = f.readline() #contains alpha and length values\n",
    "        numbers = re.findall(r\"[-+]?\\d*\\.\\d+|\\d+\", line)\n",
    "        if float(numbers[1]) > 1:\n",
    "            numbers[1] = 0\n",
    "        \n",
    "        if float(numbers[2]) > 1:\n",
    "            numbers[2] = 0\n",
    "        parameters = [float(numbers[1]), float(numbers[2])]\n",
    "        parameters_per_exp.append(parameters)\n",
    "        \n",
    "        flag+=1\n",
    "        counter+=1\n",
    "\n",
    "    elif line.startswith(\"this is the value\"):\n",
    "        flag+=1\n",
    "        \n",
    "\n",
    "f.close()\n",
    "\n",
    "# iterate through 40, box plot the trials\n",
    "trial_boxes = []\n",
    "for i in range(int(len(trials_per_exp)/40) - 1):\n",
    "    trial_boxes.append(trials_per_exp[i*40:(i+1)*40])\n",
    "\n",
    "plt.boxplot(trial_boxes)\n",
    "plt.ylabel(\"num trials\")\n",
    "plt.xlabel(\"experiment\")\n",
    "# plt.savefig(directory + \"/\" + directory + \".pdf\")\n",
    "plt.show()"
   ]
  },
  {
   "cell_type": "code",
   "execution_count": 4,
   "metadata": {},
   "outputs": [
    {
     "data": {
      "text/plain": [
       "7.125"
      ]
     },
     "execution_count": 4,
     "metadata": {},
     "output_type": "execute_result"
    }
   ],
   "source": [
    "len(trials_per_exp)/40"
   ]
  },
  {
   "cell_type": "code",
   "execution_count": 19,
   "metadata": {},
   "outputs": [
    {
     "data": {
      "text/plain": [
       "5"
      ]
     },
     "execution_count": 19,
     "metadata": {},
     "output_type": "execute_result"
    }
   ],
   "source": [
    "trials_per_exp[0]"
   ]
  },
  {
   "cell_type": "code",
   "execution_count": 9,
   "metadata": {
    "scrolled": false
   },
   "outputs": [
    {
     "name": "stdout",
     "output_type": "stream",
     "text": [
      "[1.0, 0.0]\n",
      "5\n",
      "0.42291988898203603\n",
      "0.3650945362155687\n"
     ]
    }
   ],
   "source": [
    "print(parameters_per_exp[0])\n",
    "print(trials_per_exp[0])\n",
    "\n",
    "best_params = []\n",
    "for i in range(len(parameters_per_exp)):        \n",
    "    if trials_per_exp[i] == 5:\n",
    "        best_params.append(parameters_per_exp[i])\n",
    "\n",
    "avg_1 = 0\n",
    "avg_2 = 0\n",
    "for i in range(len(best_params)):\n",
    "    avg_1 += best_params[i][0]\n",
    "    avg_2 += best_params[i][1]\n",
    "    \n",
    "avg_1 = avg_1 / len(best_params)\n",
    "avg_2 = avg_2 / len(best_params)\n",
    "print(avg_1)\n",
    "print(avg_2)"
   ]
  },
  {
   "cell_type": "code",
   "execution_count": 8,
   "metadata": {},
   "outputs": [
    {
     "data": {
      "text/plain": [
       "40"
      ]
     },
     "execution_count": 8,
     "metadata": {},
     "output_type": "execute_result"
    }
   ],
   "source": [
    "len(trials_per_exp[0:40])"
   ]
  },
  {
   "cell_type": "code",
   "execution_count": 4,
   "metadata": {},
   "outputs": [
    {
     "data": {
      "text/plain": [
       "[[0.4, 0.4],\n",
       " [0.4, 0.4],\n",
       " [0.4, 0.4],\n",
       " [1.0, 0.381473],\n",
       " [0.968811, 0.270076],\n",
       " [0.893606, 0.303219],\n",
       " [0.4, 0.4],\n",
       " [0.4, 0.4],\n",
       " [0.862495, 0.296497],\n",
       " [0.776122, 0.345936]]"
      ]
     },
     "execution_count": 4,
     "metadata": {},
     "output_type": "execute_result"
    }
   ],
   "source": [
    "best_params"
   ]
  },
  {
   "cell_type": "code",
   "execution_count": null,
   "metadata": {},
   "outputs": [],
   "source": []
  }
 ],
 "metadata": {
  "kernelspec": {
   "display_name": "Python 3",
   "language": "python",
   "name": "python3"
  },
  "language_info": {
   "codemirror_mode": {
    "name": "ipython",
    "version": 3
   },
   "file_extension": ".py",
   "mimetype": "text/x-python",
   "name": "python",
   "nbconvert_exporter": "python",
   "pygments_lexer": "ipython3",
   "version": "3.5.2"
  }
 },
 "nbformat": 4,
 "nbformat_minor": 2
}
