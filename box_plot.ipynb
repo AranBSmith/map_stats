{
 "cells": [
  {
   "cell_type": "code",
   "execution_count": 30,
   "metadata": {},
   "outputs": [
    {
     "name": "stdout",
     "output_type": "stream",
     "text": [
      "1archive_400 .dat\n",
      "2archive_400 .dat\n",
      "3archive_400.dat\n"
     ]
    },
    {
     "data": {
      "image/png": "[encoded data removed]",
      "text/plain": [
       "<Figure size 432x288 with 1 Axes>"
      ]
     },
     "metadata": {
      "needs_background": "light"
     },
     "output_type": "display_data"
    }
   ],
   "source": [
    "import numpy as np\n",
    "import matplotlib.pyplot as plt\n",
    "import os\n",
    "import sys\n",
    "\n",
    "# directory = sys.argv[1]\n",
    "directory = \"1507400/\"\n",
    "performances = []\n",
    "\n",
    "for filename in os.listdir(directory):\n",
    "    if filename.endswith(\".dat\"):\n",
    "        print(filename)\n",
    "        k,_,_,_,_,_,_,z,_,_,_,_,x,y,_,_,_,_,_,_ = np.loadtxt(directory + filename, unpack=True)\n",
    "        performances.append(z)\n",
    "\n",
    "plt.boxplot(performances)\n",
    "plt.ylabel(\"covered distance\")\n",
    "plt.xlabel(\"map\")\n",
    "plt.savefig(\"boxplot.pdf\")\n",
    "plt.show()\n"
   ]
  },
  {
   "cell_type": "code",
   "execution_count": 21,
   "metadata": {},
   "outputs": [
    {
     "data": {
      "text/plain": [
       "[array([0.330711, 0.331302, 0.251599, ..., 0.576779, 0.912298, 0.977323]),\n",
       " array([0.00406045, 0.28667   , 0.321903  , ..., 0.810328  , 1.15634   ,\n",
       "        0.87364   ]),\n",
       " array([0.055598, 0.447541, 0.543684, ..., 0.674995, 1.1084  , 0.996326])]"
      ]
     },
     "execution_count": 21,
     "metadata": {},
     "output_type": "execute_result"
    }
   ],
   "source": [
    "performances"
   ]
  },
  {
   "cell_type": "code",
   "execution_count": null,
   "metadata": {},
   "outputs": [],
   "source": []
  }
 ],
 "metadata": {
  "kernelspec": {
   "display_name": "Python 3",
   "language": "python",
   "name": "python3"
  },
  "language_info": {
   "codemirror_mode": {
    "name": "ipython",
    "version": 3
   },
   "file_extension": ".py",
   "mimetype": "text/x-python",
   "name": "python",
   "nbconvert_exporter": "python",
   "pygments_lexer": "ipython3",
   "version": "3.5.2"
  }
 },
 "nbformat": 4,
 "nbformat_minor": 2
}
