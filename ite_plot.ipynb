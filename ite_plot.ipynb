{
 "cells": [
  {
   "cell_type": "code",
   "execution_count": 3,
   "metadata": {},
   "outputs": [],
   "source": [
    "import os\n",
    "import numpy as np\n",
    "import matplotlib.pyplot as plt\n",
    "\n",
    "def present(directory):\n",
    "    final_dists = []\n",
    "    boxes = []\n",
    "    boxes_x = []\n",
    "    references = []\n",
    "    \n",
    "    dmgid = 0\n",
    "    for dmgdir in sorted(os.listdir(directory + \"/iteresults\")):\n",
    "        boxes_x.append(dmgdir)\n",
    "        dmgid += 1\n",
    "        \n",
    "        final_dists = []\n",
    "        for subdir in os.listdir(directory + \"/iteresults/\" + dmgdir):\n",
    "            \n",
    "            if subdir != \"ref.txt\":\n",
    "                x = np.loadtxt(directory + \"/iteresults/\" + dmgdir + \"/\" + subdir + \"/best_aggregated_observations.dat\")\n",
    "                best_score = x[len(x)-1][1]\n",
    "                final_dists.append(best_score)\n",
    "        \n",
    "        boxes.append(final_dists) \n",
    "        \n",
    "        ref = np.loadtxt(directory + \"/iteresults/\" + dmgdir + \"/ref.txt\")\n",
    "        references.append(ref)\n",
    "        \n",
    "    fig = plt.figure()\n",
    "    axes = fig.add_axes([0.1,0.1,0.8,0.8])\n",
    "    axes.boxplot(boxes)\n",
    "    axes.set_ylim([0,5])\n",
    "    colors = ['y', 'b', 'g']\n",
    "    markers = ['^', 'o', 's']\n",
    "    labels = ['tripod', 'hill climbing', 'stair climbing']\n",
    "        \n",
    "    for i in range(len(references)):\n",
    "        for j in range(len(references[i])):\n",
    "            if i == 0:\n",
    "                axes.plot(i+1, references[i][j], label=labels[j], color=colors[j], marker=markers[j], markeredgecolor='k', markersize=5)\n",
    "            else:\n",
    "                axes.plot(i+1, references[i][j], color=colors[j], marker=markers[j], markeredgecolor='k', markersize=5)\n",
    "    ticks = np.linspace(1, len(boxes), len(boxes))\n",
    "    plt.ylabel(\"max covered meters in 5s\")\n",
    "    plt.xticks(ticks, boxes_x)\n",
    "    # plt.xlabel(\"damage type\")\n",
    "    plt.grid(axis='y')\n",
    "    plt.axvline(x=8.5, color='k', linestyle='--')\n",
    "\n",
    "    plt.savefig(directory + \"/plots/maxscore.pdf\")\n",
    "    plt.legend()\n",
    "    plt.show()"
   ]
  },
  {
   "cell_type": "code",
   "execution_count": 5,
   "metadata": {
    "scrolled": true
   },
   "outputs": [
    {
     "name": "stderr",
     "output_type": "stream",
     "text": [
      "/home/aran/.local/lib/python3.5/site-packages/ipykernel_launcher.py:26: UserWarning: loadtxt: Empty input file: \"dc2307/iteresults/e3/ref.txt\"\n",
      "/home/aran/.local/lib/python3.5/site-packages/ipykernel_launcher.py:26: UserWarning: loadtxt: Empty input file: \"dc2307/iteresults/e4/ref.txt\"\n"
     ]
    },
    {
     "data": {
      "image/png": "[encoded data removed]",
      "text/plain": [
       "<Figure size 432x288 with 1 Axes>"
      ]
     },
     "metadata": {
      "needs_background": "light"
     },
     "output_type": "display_data"
    }
   ],
   "source": [
    "present(\"dc2307\")"
   ]
  },
  {
   "cell_type": "code",
   "execution_count": null,
   "metadata": {},
   "outputs": [],
   "source": []
  }
 ],
 "metadata": {
  "kernelspec": {
   "display_name": "Python 3",
   "language": "python",
   "name": "python3"
  },
  "language_info": {
   "codemirror_mode": {
    "name": "ipython",
    "version": 3
   },
   "file_extension": ".py",
   "mimetype": "text/x-python",
   "name": "python",
   "nbconvert_exporter": "python",
   "pygments_lexer": "ipython3",
   "version": "3.5.2"
  }
 },
 "nbformat": 4,
 "nbformat_minor": 2
}
