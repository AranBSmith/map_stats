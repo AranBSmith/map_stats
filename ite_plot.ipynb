{
 "cells": [
  {
   "cell_type": "code",
   "execution_count": 57,
   "metadata": {},
   "outputs": [],
   "source": [
    "import os\n",
    "import numpy as np\n",
    "import matplotlib.pyplot as plt\n",
    "\n",
    "def present(directory):\n",
    "    final_dists = []\n",
    "    boxes = []\n",
    "    boxes_x = []\n",
    "    for dmgdir in os.listdir(directory + \"/iteresults\"):\n",
    "        boxes_x.append(dmgdir)\n",
    "        for subdir in os.listdir(directory + \"/iteresults/\" + dmgdir):\n",
    "            x = np.loadtxt(directory + \"/iteresults/\" + dmgdir + \"/\" + subdir + \"/best_aggregated_observations.dat\")\n",
    "            best_score = x[len(x)-1][1]\n",
    "            final_dists.append(best_score)\n",
    "        boxes.append(final_dists) \n",
    "        \n",
    "    fig = plt.figure()\n",
    "    axes = fig.add_axes([0.1,0.1,0.8,0.8])\n",
    "    axes.boxplot(boxes)\n",
    "    axes.set_ylim([0,5])\n",
    "    ticks = np.linspace(1, len(boxes), len(boxes))\n",
    "    plt.ylabel(\"max covered distance in 5s\")\n",
    "    plt.xticks(ticks, boxes_x)\n",
    "    plt.xlabel(\"damage type\")\n",
    "    #plt.savefig(directory + \"/plots/maxscore.pdf\")\n",
    "    plt.show()"
   ]
  },
  {
   "cell_type": "code",
   "execution_count": 58,
   "metadata": {},
   "outputs": [
    {
     "name": "stdout",
     "output_type": "stream",
     "text": [
      "['c1', 'c2']\n"
     ]
    },
    {
     "data": {
      "image/png": "[encoded data removed]",
      "text/plain": [
       "<Figure size 432x288 with 1 Axes>"
      ]
     },
     "metadata": {
      "needs_background": "light"
     },
     "output_type": "display_data"
    }
   ],
   "source": [
    "present(\"2307\")"
   ]
  },
  {
   "cell_type": "code",
   "execution_count": null,
   "metadata": {},
   "outputs": [],
   "source": []
  }
 ],
 "metadata": {
  "kernelspec": {
   "display_name": "Python 3",
   "language": "python",
   "name": "python3"
  },
  "language_info": {
   "codemirror_mode": {
    "name": "ipython",
    "version": 3
   },
   "file_extension": ".py",
   "mimetype": "text/x-python",
   "name": "python",
   "nbconvert_exporter": "python",
   "pygments_lexer": "ipython3",
   "version": "3.5.2"
  }
 },
 "nbformat": 4,
 "nbformat_minor": 2
}
